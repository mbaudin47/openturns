{
 "cells": [
  {
   "cell_type": "markdown",
   "metadata": {},
   "source": [
    "# Estimate a probability with the flood model\n",
    "\n",
    "In this example, we estimate the probability that the ouput of a function exceeds a given threshold with the FORM method. We consider the flooding model."
   ]
  },
  {
   "cell_type": "markdown",
   "metadata": {},
   "source": [
    "## Introduction\n",
    "\n",
    "The following figure presents the dyke that protects industrial facilities. When the river height exceeds the one of the dyke, flooding occurs. The model is based on a crude simplification of the 1D hydrodynamical equations of Saint-Venant under the assumptions of uniform and constant flowrate and large rectangular sections.\n",
    "\n",
    "<img src=\"river_section_adjusted_light.png\" width=\"400\" />\n",
    "\n",
    "Four independent random variables are considered:\n",
    "\n",
    " - Q (Flow rate) [m^3 s^-1]\n",
    " - Ks (Strickler) [m^1/3 s^-1]\n",
    " - Zv (downstream height) # [m]\n",
    " - Zm (upstream height) # [m]\n",
    "\n",
    "When the Strickler coefficient increases, the riverbed generates less friction. \n",
    "\n",
    "We consider the four following parameters:\n",
    "\n",
    "* the height of the dyke : Hd = 3 [m],\n",
    "* the level of the banks of the river Zb = 55.5 [m],\n",
    "* the length of the river L = 5000 [m],\n",
    "* the width of the river B = 300 [m].\n",
    "\n",
    "The height of the dyke is:\n",
    "\n",
    "$$\n",
    "Z_d = Z_b + H_d\n",
    "$$\n",
    "\n",
    "The slope of the river is assumed to be close to zero, which implies:\n",
    "\n",
    "$$\n",
    "\\alpha = \\frac{Z_m - Z_v}{L},\n",
    "$$\n",
    "\n",
    "if $Z_m \\geq Z_v$. \n",
    "\n",
    "The height of the water level is:\n",
    "\n",
    "$$\n",
    "H = \\left(\\frac{Q}{K_s B \\sqrt{\\alpha}}\\right)^{0.6},\n",
    "$$\n",
    "\n",
    "for any $K_s, Q>0$.\n",
    "\n",
    "Therefore, the height of the flood is:\n",
    "\n",
    "$$\n",
    "Z_c = H + Z_v\n",
    "$$\n",
    "\n",
    "The water level is greater than the height of the dyke (i.e. there is a flood) if:\n",
    "\n",
    "$$\n",
    "S = Z_c - Z_d\n",
    "$$\n",
    "\n",
    "is greater than zero.\n",
    "\n",
    "If we substitute the parameters into the equation, we get:\n",
    "\n",
    "$$\n",
    "S = \\left(\\frac{Q}{300 Ks \\sqrt{(Zm-Zv)/5000}}\\right)^{3/5} +Zv-55.5-3.\n",
    "$$\n",
    "\n",
    "We assume that the four inputs have the following distributions:\n",
    "\n",
    " - Q ~ Gumbel(mode=1013, scale=558), Q > 0\n",
    " - Ks ~ Normal(mu=30.0, sigma=7.5), Ks > 0\n",
    " - Zv ~ Uniform(a=49, b=51)\n",
    " - Zm ~ Uniform(a=54, b=56)\n",
    "\n",
    "Moreover, we assume that the input random variables are independent.\n",
    "\n",
    "It is considered that failure occurs when the difference between the dike height and the water level is positive. In other words, we want to estimate the probability:\n",
    "\n",
    "$$\n",
    "P_f = P(S>0).\n",
    "$$\n"
   ]
  },
  {
   "cell_type": "markdown",
   "metadata": {},
   "source": [
    "## References\n",
    "\n",
    "* Iooss B, Lemaître P (2015) A review on global sensitivity analysis methods. In: Meloni C., Dellino G. (eds) Uncertainty management in Simulation-Optimization of Complex Systems: Algorithmsand Applications, Springer\n",
    "* Baudin M., Dutfoy A., Iooss B., Popelin AL. (2015) OpenTURNS: An Industrial Software for Uncertainty Quantification in Simulation. In: Ghanem R., Higdon D., Owhadi H. (eds) Handbook of Uncertainty Quantification. Springer"
   ]
  },
  {
   "cell_type": "markdown",
   "metadata": {},
   "source": [
    "## Define the model"
   ]
  },
  {
   "cell_type": "code",
   "execution_count": 1,
   "metadata": {},
   "outputs": [],
   "source": [
    "from __future__ import print_function\n",
    "import openturns as ot"
   ]
  },
  {
   "cell_type": "code",
   "execution_count": 2,
   "metadata": {},
   "outputs": [],
   "source": [
    "# Create the marginal distributions of the parameters\n",
    "dist_Q = ot.TruncatedDistribution(ot.Gumbel(558., 1013.), 0, ot.TruncatedDistribution.LOWER)\n",
    "dist_Ks = ot.TruncatedDistribution(ot.Normal(30.0, 7.5), 0, ot.TruncatedDistribution.LOWER)\n",
    "dist_Zv = ot.Uniform(49.0, 51.0)\n",
    "dist_Zm = ot.Uniform(54.0, 56.0)\n",
    "marginals = [dist_Q, dist_Ks, dist_Zv, dist_Zm]"
   ]
  },
  {
   "cell_type": "code",
   "execution_count": 3,
   "metadata": {},
   "outputs": [],
   "source": [
    "# Create the Copula\n",
    "RS = ot.CorrelationMatrix(4)\n",
    "#RS[2, 3] = -0.2\n",
    "# Evaluate the correlation matrix of the Normal copula from RS\n",
    "R = ot.NormalCopula.GetCorrelationFromSpearmanCorrelation(RS)\n",
    "# Create the Normal copula parametrized by R\n",
    "copula = ot.NormalCopula(R) "
   ]
  },
  {
   "cell_type": "code",
   "execution_count": 4,
   "metadata": {},
   "outputs": [],
   "source": [
    "# Create the joint probability distribution\n",
    "distribution = ot.ComposedDistribution(marginals, copula)\n",
    "distribution.setDescription(['Q', 'Ks', 'Zv', 'Zm'])"
   ]
  },
  {
   "cell_type": "code",
   "execution_count": 5,
   "metadata": {},
   "outputs": [],
   "source": [
    "# create the model\n",
    "model = ot.SymbolicFunction(['Q', 'Ks', 'Zv', 'Zm'],\n",
    "                            ['(Q/(Ks*300.*sqrt((Zm-Zv)/5000)))^(3.0/5.0)+Zv-55.5-3.'])"
   ]
  },
  {
   "cell_type": "markdown",
   "metadata": {},
   "source": [
    "## Define the event"
   ]
  },
  {
   "cell_type": "markdown",
   "metadata": {},
   "source": [
    "Then we create the event we want to estimate the probability."
   ]
  },
  {
   "cell_type": "code",
   "execution_count": 6,
   "metadata": {},
   "outputs": [],
   "source": [
    "vect = ot.RandomVector(distribution)\n",
    "G = ot.CompositeRandomVector(model, vect)\n",
    "event = ot.ThresholdEvent(G, ot.Greater(), 0.0)\n",
    "event.setName('overflow')"
   ]
  },
  {
   "cell_type": "markdown",
   "metadata": {},
   "source": [
    "## Estimate the probability with FORM"
   ]
  },
  {
   "cell_type": "code",
   "execution_count": 7,
   "metadata": {},
   "outputs": [],
   "source": [
    "# Define a solver\n",
    "optimAlgo = ot.Cobyla()\n",
    "optimAlgo.setMaximumEvaluationNumber(1000)\n",
    "optimAlgo.setMaximumAbsoluteError(1.0e-10)\n",
    "optimAlgo.setMaximumRelativeError(1.0e-10)\n",
    "optimAlgo.setMaximumResidualError(1.0e-10)\n",
    "optimAlgo.setMaximumConstraintError(1.0e-10)"
   ]
  },
  {
   "cell_type": "code",
   "execution_count": 8,
   "metadata": {},
   "outputs": [],
   "source": [
    "# Run FORM\n",
    "startingPoint = distribution.getMean()\n",
    "algo = ot.FORM(optimAlgo, event, startingPoint)\n",
    "algo.run()\n",
    "result = algo.getResult()\n",
    "standardSpaceDesignPoint = result.getStandardSpaceDesignPoint()"
   ]
  },
  {
   "cell_type": "code",
   "execution_count": 9,
   "metadata": {},
   "outputs": [
    {
     "name": "stdout",
     "output_type": "stream",
     "text": [
      "Pf= 0.0005340887806479517\n"
     ]
    }
   ],
   "source": [
    "# retrieve results\n",
    "result = algo.getResult()\n",
    "probability = result.getEventProbability()\n",
    "print('Pf=', probability)"
   ]
  },
  {
   "cell_type": "code",
   "execution_count": 10,
   "metadata": {},
   "outputs": [
    {
     "data": {
      "image/png": "[encoded data removed]",
      "text/plain": [
       "class=Graph name=Unnamed implementation=class=GraphImplementation name=Unnamed title=Importance Factors from Design Point - overflow xTitle= yTitle= axes=OFF grid=OFF legendposition= legendFontSize=1 drawables=[class=Drawable name=Unnamed implementation=class=Pie name=Unnamed labels=[Q : 21.8%,Ks : 72.8%,Zv : 4.6%,Zm : 0.9%] radius=1 center=class=Point name=Unnamed dimension=2 values=[0,0] color palette=[#ff0000,#ccff00,#00ff66,#0066ff] derived from class=DrawableImplementation name=Unnamed legend= data=class=Sample name=Unnamed implementation=class=SampleImplementation name=Unnamed size=4 dimension=1 data=[[0.217607],[0.728041],[0.0455605],[0.00879155]] color=blue fillStyle=solid lineStyle=solid pointStyle=plus lineWidth=1]"
      ]
     },
     "execution_count": 10,
     "metadata": {},
     "output_type": "execute_result"
    }
   ],
   "source": [
    "# Importance factors\n",
    "result.drawImportanceFactors()"
   ]
  }
 ],
 "metadata": {
  "kernelspec": {
   "display_name": "Python 3",
   "language": "python",
   "name": "python3"
  },
  "language_info": {
   "codemirror_mode": {
    "name": "ipython",
    "version": 3
   },
   "file_extension": ".py",
   "mimetype": "text/x-python",
   "name": "python",
   "nbconvert_exporter": "python",
   "pygments_lexer": "ipython3",
   "version": "3.6.7rc1"
  }
 },
 "nbformat": 4,
 "nbformat_minor": 1
}
